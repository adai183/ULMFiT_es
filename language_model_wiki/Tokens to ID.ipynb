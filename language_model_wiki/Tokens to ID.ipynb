{
 "cells": [
  {
   "cell_type": "code",
   "execution_count": 8,
   "metadata": {},
   "outputs": [],
   "source": [
    "from fastai.text import *\n",
    "\n",
    "LM_PATH = Path('./LM')"
   ]
  },
  {
   "cell_type": "code",
   "execution_count": 9,
   "metadata": {},
   "outputs": [
    {
     "name": "stdout",
     "output_type": "stream",
     "text": [
      "[('de', 3055296), (',', 2333031), ('.', 1659100), ('la', 1651676), ('en', 1387407), ('el', 1291105), ('y', 1066286), ('\"', 753506), ('a', 725337), ('que', 686934), ('los', 580691), ('del', 546874), ('\\n\\n', 515856), ('se', 474874), ('por', 399341), ('un', 383994), ('con', 373023), ('las', 360458), ('su', 337218), ('una', 329725), ('\\n', 329080), (')', 292180), ('(', 289826), ('como', 240331), ('para', 239799)]\n"
     ]
    }
   ],
   "source": [
    "trn_tok = np.load('tmp/tok_trn.npy')\n",
    "freq = Counter(p for o in trn_tok for p in o)\n",
    "print(freq.most_common(25))"
   ]
  },
  {
   "cell_type": "code",
   "execution_count": 10,
   "metadata": {},
   "outputs": [],
   "source": [
    "ordered = freq.most_common()"
   ]
  },
  {
   "cell_type": "code",
   "execution_count": 20,
   "metadata": {},
   "outputs": [
    {
     "data": {
      "text/plain": [
       "637567"
      ]
     },
     "execution_count": 20,
     "metadata": {},
     "output_type": "execute_result"
    }
   ],
   "source": [
    "len(ordered)"
   ]
  },
  {
   "cell_type": "code",
   "execution_count": 32,
   "metadata": {},
   "outputs": [
    {
     "data": {
      "text/plain": [
       "('intervenga', 22)"
      ]
     },
     "execution_count": 32,
     "metadata": {},
     "output_type": "execute_result"
    }
   ],
   "source": [
    "ordered[60000]"
   ]
  },
  {
   "cell_type": "code",
   "execution_count": null,
   "metadata": {},
   "outputs": [],
   "source": [
    "def tok2id(dir_path, max_vocab=60000, min_freq=10):\n",
    "    print(f'dir_path {dir_path} max_vocab {max_vocab} min_freq {min_freq}')\n",
    "    p = Path(dir_path)\n",
    "    assert p.exists(), f'Error: {p} does not exist.'\n",
    "    tmp_path = p / 'tmp'\n",
    "    assert tmp_path.exists(), f'Error: {tmp_path} does not exist.'\n",
    "\n",
    "    trn_tok = np.load(tmp_path / 'tok_trn.npy')\n",
    "    val_tok = np.load(tmp_path / 'tok_val.npy')\n",
    "\n",
    "    freq = Counter(p for o in trn_tok for p in o)\n",
    "    print(freq.most_common(25))\n",
    "    itos = [o for o,c in freq.most_common(max_vocab) if c>min_freq]\n",
    "    itos.insert(0, '_pad_')\n",
    "    itos.insert(0, '_unk_')\n",
    "    stoi = collections.defaultdict(lambda:0, {v:k for k,v in enumerate(itos)})\n",
    "    print(len(itos))\n",
    "\n",
    "    trn_lm = np.array([[stoi[o] for o in p] for p in trn_tok])\n",
    "    val_lm = np.array([[stoi[o] for o in p] for p in val_tok])\n",
    "\n",
    "    np.save(tmp_path / 'trn_ids.npy', trn_lm)\n",
    "    np.save(tmp_path / 'val_ids.npy', val_lm)\n",
    "    pickle.dump(itos, open(tmp_path / 'itos.pkl', 'wb'))"
   ]
  },
  {
   "cell_type": "code",
   "execution_count": null,
   "metadata": {},
   "outputs": [],
   "source": [
    "tok2id(LM_PATH)"
   ]
  }
 ],
 "metadata": {
  "kernelspec": {
   "display_name": "Python 3",
   "language": "python",
   "name": "python3"
  },
  "language_info": {
   "codemirror_mode": {
    "name": "ipython",
    "version": 3
   },
   "file_extension": ".py",
   "mimetype": "text/x-python",
   "name": "python",
   "nbconvert_exporter": "python",
   "pygments_lexer": "ipython3",
   "version": "3.6.7"
  }
 },
 "nbformat": 4,
 "nbformat_minor": 2
}
