{
 "cells": [
  {
   "cell_type": "code",
   "execution_count": 1,
   "metadata": {},
   "outputs": [],
   "source": [
    "from fastai.imports import *\n",
    "\n",
    "DATA_PATH = Path('./data/wiki_extr/es')\n",
    "LM_PATH = Path('./LM')"
   ]
  },
  {
   "cell_type": "markdown",
   "metadata": {},
   "source": [
    "## Database of all Spanish Wikipedia articles with >10000 words"
   ]
  },
  {
   "cell_type": "code",
   "execution_count": 2,
   "metadata": {},
   "outputs": [
    {
     "name": "stdout",
     "output_type": "stream",
     "text": [
      "data/wiki_extr/es/AB\n",
      "data/wiki_extr/es/AC\n",
      "data/wiki_extr/es/AA\n",
      "data/wiki_extr/es/AO\n",
      "data/wiki_extr/es/AW\n",
      "data/wiki_extr/es/BC\n",
      "data/wiki_extr/es/BE\n",
      "data/wiki_extr/es/AG\n",
      "data/wiki_extr/es/AY\n",
      "data/wiki_extr/es/AK\n",
      "data/wiki_extr/es/AV\n",
      "data/wiki_extr/es/AU\n",
      "data/wiki_extr/es/AH\n",
      "data/wiki_extr/es/BA\n",
      "data/wiki_extr/es/AD\n",
      "data/wiki_extr/es/AS\n",
      "data/wiki_extr/es/AT\n",
      "data/wiki_extr/es/AZ\n",
      "data/wiki_extr/es/BB\n",
      "data/wiki_extr/es/AI\n",
      "data/wiki_extr/es/AR\n",
      "data/wiki_extr/es/AN\n",
      "data/wiki_extr/es/AP\n",
      "data/wiki_extr/es/AF\n",
      "data/wiki_extr/es/AJ\n",
      "data/wiki_extr/es/AM\n",
      "data/wiki_extr/es/AE\n",
      "data/wiki_extr/es/AQ\n",
      "data/wiki_extr/es/BD\n",
      "data/wiki_extr/es/AL\n",
      "data/wiki_extr/es/AX\n"
     ]
    }
   ],
   "source": [
    "jsons = []\n",
    "for direc in DATA_PATH.iterdir():\n",
    "    print (direc)\n",
    "    for file in direc.iterdir():\n",
    "        #print(file)\n",
    "        for line in open(file, 'r', encoding=\"utf-8\"):\n",
    "            jsons.append(json.loads(line))"
   ]
  },
  {
   "cell_type": "code",
   "execution_count": 3,
   "metadata": {},
   "outputs": [
    {
     "data": {
      "text/plain": [
       "dict_keys(['id', 'url', 'title', 'text'])"
      ]
     },
     "execution_count": 3,
     "metadata": {},
     "output_type": "execute_result"
    }
   ],
   "source": [
    "jsons[0].keys()"
   ]
  },
  {
   "cell_type": "code",
   "execution_count": 4,
   "metadata": {},
   "outputs": [],
   "source": [
    "TEXT = 'text'"
   ]
  },
  {
   "cell_type": "code",
   "execution_count": 5,
   "metadata": {},
   "outputs": [],
   "source": [
    "idx = np.random.permutation(len(jsons))"
   ]
  },
  {
   "cell_type": "code",
   "execution_count": 6,
   "metadata": {},
   "outputs": [],
   "source": [
    "limit_sets = int(len(jsons)*0.8)\n",
    "\n",
    "trn_set = [jsons[i] for i in idx[:limit_sets]]\n",
    "val_set = [jsons[i] for i in idx[limit_sets:]]"
   ]
  },
  {
   "cell_type": "code",
   "execution_count": 7,
   "metadata": {},
   "outputs": [],
   "source": [
    "def remove_title(texts):\n",
    "    return texts.split('\\n\\n', 1)[-1]"
   ]
  },
  {
   "cell_type": "code",
   "execution_count": 8,
   "metadata": {},
   "outputs": [],
   "source": [
    "trn_texts = [remove_title(exmp[TEXT]) for exmp in trn_set]"
   ]
  },
  {
   "cell_type": "code",
   "execution_count": 9,
   "metadata": {},
   "outputs": [],
   "source": [
    "val_texts = [remove_title(exmp[TEXT]) for exmp in val_set]"
   ]
  },
  {
   "cell_type": "code",
   "execution_count": 10,
   "metadata": {},
   "outputs": [],
   "source": [
    "df_trn = pd.DataFrame(trn_texts)\n",
    "df_val = pd.DataFrame(val_texts)"
   ]
  },
  {
   "cell_type": "code",
   "execution_count": 11,
   "metadata": {},
   "outputs": [],
   "source": [
    "df_trn.to_csv(LM_PATH/'train.csv', header=False, index=False)"
   ]
  },
  {
   "cell_type": "code",
   "execution_count": 12,
   "metadata": {},
   "outputs": [],
   "source": [
    "df_val.to_csv(LM_PATH/'val.csv', header=False, index=False)"
   ]
  },
  {
   "cell_type": "code",
   "execution_count": null,
   "metadata": {},
   "outputs": [],
   "source": []
  }
 ],
 "metadata": {
  "kernelspec": {
   "display_name": "Python 3",
   "language": "python",
   "name": "python3"
  },
  "language_info": {
   "codemirror_mode": {
    "name": "ipython",
    "version": 3
   },
   "file_extension": ".py",
   "mimetype": "text/x-python",
   "name": "python",
   "nbconvert_exporter": "python",
   "pygments_lexer": "ipython3",
   "version": "3.6.7"
  }
 },
 "nbformat": 4,
 "nbformat_minor": 2
}
